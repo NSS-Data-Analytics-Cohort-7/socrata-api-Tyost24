{
 "cells": [
  {
   "cell_type": "markdown",
   "id": "f58ce2d5",
   "metadata": {},
   "source": [
    "kaboodle_dict = response4.json()\n",
    "kaboodle = pd.DataFrame.from_dict(kaboodle_dict)"
   ]
  },
  {
   "cell_type": "code",
   "execution_count": null,
   "id": "b418b42e",
   "metadata": {},
   "outputs": [],
   "source": [
    "import requests\n",
    "import matplotlib.pyplot as plt\n",
    "import pandas as pd"
   ]
  },
  {
   "cell_type": "code",
   "execution_count": null,
   "id": "53465c56",
   "metadata": {},
   "outputs": [],
   "source": [
    "endpoint = 'https://data.nashville.gov/resource/fuaa-r5cm.json?year=2016&query_text=fire'\n",
    "\n",
    "\n",
    "response = requests.get(endpoint)"
   ]
  },
  {
   "cell_type": "code",
   "execution_count": null,
   "id": "852f08e2",
   "metadata": {},
   "outputs": [],
   "source": [
    "params = {\n",
    "  'query_text': 'fire'\n",
    "}"
   ]
  },
  {
   "cell_type": "code",
   "execution_count": null,
   "id": "b71a351b",
   "metadata": {},
   "outputs": [],
   "source": [
    "response"
   ]
  },
  {
   "cell_type": "code",
   "execution_count": null,
   "id": "1333e016",
   "metadata": {},
   "outputs": [],
   "source": [
    "response.text"
   ]
  },
  {
   "cell_type": "markdown",
   "id": "581811f6",
   "metadata": {},
   "source": [
    "### 1. Make an API request that returns the months where \"fire\" was searched in 2016. Which month had the most searches?"
   ]
  },
  {
   "cell_type": "code",
   "execution_count": null,
   "id": "00f0edbf",
   "metadata": {
    "scrolled": true
   },
   "outputs": [],
   "source": [
    "res = response.json()\n",
    "res"
   ]
  },
  {
   "cell_type": "code",
   "execution_count": null,
   "id": "c7c02043",
   "metadata": {
    "scrolled": true
   },
   "outputs": [],
   "source": [
    "search_df = pd.DataFrame.from_dict(res)\n",
    "search_df"
   ]
  },
  {
   "cell_type": "code",
   "execution_count": null,
   "id": "583f08e2",
   "metadata": {},
   "outputs": [],
   "source": []
  },
  {
   "cell_type": "code",
   "execution_count": null,
   "id": "b03babd1",
   "metadata": {},
   "outputs": [],
   "source": [
    "blah"
   ]
  }
 ],
 "metadata": {
  "kernelspec": {
   "display_name": "Python 3 (ipykernel)",
   "language": "python",
   "name": "python3"
  },
  "language_info": {
   "codemirror_mode": {
    "name": "ipython",
    "version": 3
   },
   "file_extension": ".py",
   "mimetype": "text/x-python",
   "name": "python",
   "nbconvert_exporter": "python",
   "pygments_lexer": "ipython3",
   "version": "3.9.7"
  }
 },
 "nbformat": 4,
 "nbformat_minor": 5
}
